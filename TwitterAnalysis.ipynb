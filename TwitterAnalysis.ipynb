{
 "cells": [
  {
   "cell_type": "code",
   "execution_count": 375,
   "id": "e2c5ac62",
   "metadata": {},
   "outputs": [],
   "source": [
    "import numpy as np\n",
    "import pandas as pd\n",
    "import matplotlib.pyplot as plt\n",
    "import seaborn as sns\n",
    "from collections import Counter"
   ]
  },
  {
   "cell_type": "code",
   "execution_count": 377,
   "id": "fc368810",
   "metadata": {},
   "outputs": [
    {
     "data": {
      "text/plain": [
       "(10000, 13)"
      ]
     },
     "execution_count": 377,
     "metadata": {},
     "output_type": "execute_result"
    }
   ],
   "source": [
    "df= pd.read_excel('lastasknew2.xlsx')\n",
    "df.shape"
   ]
  },
  {
   "cell_type": "code",
   "execution_count": 378,
   "id": "76134c83",
   "metadata": {},
   "outputs": [
    {
     "data": {
      "text/html": [
       "<div>\n",
       "<style scoped>\n",
       "    .dataframe tbody tr th:only-of-type {\n",
       "        vertical-align: middle;\n",
       "    }\n",
       "\n",
       "    .dataframe tbody tr th {\n",
       "        vertical-align: top;\n",
       "    }\n",
       "\n",
       "    .dataframe thead th {\n",
       "        text-align: right;\n",
       "    }\n",
       "</style>\n",
       "<table border=\"1\" class=\"dataframe\">\n",
       "  <thead>\n",
       "    <tr style=\"text-align: right;\">\n",
       "      <th></th>\n",
       "      <th>User</th>\n",
       "      <th>Tweet</th>\n",
       "      <th>Dates</th>\n",
       "      <th>Time</th>\n",
       "      <th>hour</th>\n",
       "      <th>yyyy</th>\n",
       "      <th>mm</th>\n",
       "      <th>my</th>\n",
       "      <th>letter count</th>\n",
       "      <th>new_t</th>\n",
       "      <th>weekday</th>\n",
       "      <th>month</th>\n",
       "      <th>tw</th>\n",
       "    </tr>\n",
       "  </thead>\n",
       "  <tbody>\n",
       "    <tr>\n",
       "      <th>0</th>\n",
       "      <td>hdow305305</td>\n",
       "      <td>@tvtcweb_ask ماحصلت دبلوم مسائي للبنات بالتقني...</td>\n",
       "      <td>2022-06-22</td>\n",
       "      <td>22:11:09</td>\n",
       "      <td>22</td>\n",
       "      <td>2022</td>\n",
       "      <td>6</td>\n",
       "      <td>2022-6</td>\n",
       "      <td>78</td>\n",
       "      <td>ماحصلت دبلوم مسائي للبنات بالتقنيه ماراح يفتح...</td>\n",
       "      <td>Wednesday</td>\n",
       "      <td>June</td>\n",
       "      <td>ماحصلت دبلوم مسائي للبنات بالتقنيه ماراح يفتحو...</td>\n",
       "    </tr>\n",
       "    <tr>\n",
       "      <th>1</th>\n",
       "      <td>Mana_341</td>\n",
       "      <td>@tvtcweb_ask @reemilittle مايفتح الرابط</td>\n",
       "      <td>2022-06-22</td>\n",
       "      <td>21:38:50</td>\n",
       "      <td>21</td>\n",
       "      <td>2022</td>\n",
       "      <td>6</td>\n",
       "      <td>2022-6</td>\n",
       "      <td>39</td>\n",
       "      <td>مايفتح الرابط</td>\n",
       "      <td>Wednesday</td>\n",
       "      <td>June</td>\n",
       "      <td>@reemilittle مايفتح الرابط</td>\n",
       "    </tr>\n",
       "  </tbody>\n",
       "</table>\n",
       "</div>"
      ],
      "text/plain": [
       "         User                                              Tweet      Dates  \\\n",
       "0  hdow305305  @tvtcweb_ask ماحصلت دبلوم مسائي للبنات بالتقني... 2022-06-22   \n",
       "1    Mana_341            @tvtcweb_ask @reemilittle مايفتح الرابط 2022-06-22   \n",
       "\n",
       "       Time  hour  yyyy  mm      my  letter count  \\\n",
       "0  22:11:09    22  2022   6  2022-6            78   \n",
       "1  21:38:50    21  2022   6  2022-6            39   \n",
       "\n",
       "                                               new_t    weekday month  \\\n",
       "0   ماحصلت دبلوم مسائي للبنات بالتقنيه ماراح يفتح...  Wednesday  June   \n",
       "1                                      مايفتح الرابط  Wednesday  June   \n",
       "\n",
       "                                                  tw  \n",
       "0  ماحصلت دبلوم مسائي للبنات بالتقنيه ماراح يفتحو...  \n",
       "1                         @reemilittle مايفتح الرابط  "
      ]
     },
     "execution_count": 378,
     "metadata": {},
     "output_type": "execute_result"
    }
   ],
   "source": [
    "df.head(2)"
   ]
  },
  {
   "cell_type": "code",
   "execution_count": 379,
   "id": "f84d49b1",
   "metadata": {},
   "outputs": [
    {
     "data": {
      "text/html": [
       "<div>\n",
       "<style scoped>\n",
       "    .dataframe tbody tr th:only-of-type {\n",
       "        vertical-align: middle;\n",
       "    }\n",
       "\n",
       "    .dataframe tbody tr th {\n",
       "        vertical-align: top;\n",
       "    }\n",
       "\n",
       "    .dataframe thead th {\n",
       "        text-align: right;\n",
       "    }\n",
       "</style>\n",
       "<table border=\"1\" class=\"dataframe\">\n",
       "  <thead>\n",
       "    <tr style=\"text-align: right;\">\n",
       "      <th></th>\n",
       "      <th>UserName</th>\n",
       "      <th>Dates</th>\n",
       "      <th>Time</th>\n",
       "      <th>letter count</th>\n",
       "      <th>Tweets</th>\n",
       "    </tr>\n",
       "  </thead>\n",
       "  <tbody>\n",
       "    <tr>\n",
       "      <th>0</th>\n",
       "      <td>hdow305305</td>\n",
       "      <td>2022-06-22</td>\n",
       "      <td>22:11:09</td>\n",
       "      <td>78</td>\n",
       "      <td>ماحصلت دبلوم مسائي للبنات بالتقنيه ماراح يفتح...</td>\n",
       "    </tr>\n",
       "    <tr>\n",
       "      <th>1</th>\n",
       "      <td>Mana_341</td>\n",
       "      <td>2022-06-22</td>\n",
       "      <td>21:38:50</td>\n",
       "      <td>39</td>\n",
       "      <td>مايفتح الرابط</td>\n",
       "    </tr>\n",
       "  </tbody>\n",
       "</table>\n",
       "</div>"
      ],
      "text/plain": [
       "     UserName      Dates      Time  letter count  \\\n",
       "0  hdow305305 2022-06-22  22:11:09            78   \n",
       "1    Mana_341 2022-06-22  21:38:50            39   \n",
       "\n",
       "                                              Tweets  \n",
       "0   ماحصلت دبلوم مسائي للبنات بالتقنيه ماراح يفتح...  \n",
       "1                                      مايفتح الرابط  "
      ]
     },
     "execution_count": 379,
     "metadata": {},
     "output_type": "execute_result"
    }
   ],
   "source": [
    "dis4=df.drop(columns=['Tweet','hour','yyyy','mm','my','weekday','month','tw'])\n",
    "dis4=dis4.rename(columns={\"new_t\":\"Tweets\"})\n",
    "dis4=dis4.rename(columns={\"User\":\"UserName\"})\n",
    "\n",
    "dis4.head(2)\n"
   ]
  },
  {
   "cell_type": "code",
   "execution_count": 380,
   "id": "d41d1b4d",
   "metadata": {},
   "outputs": [
    {
     "data": {
      "text/plain": [
       "(10000, 5)"
      ]
     },
     "execution_count": 380,
     "metadata": {},
     "output_type": "execute_result"
    }
   ],
   "source": [
    "dis4.shape"
   ]
  },
  {
   "cell_type": "code",
   "execution_count": 382,
   "id": "c0b2ab6f",
   "metadata": {},
   "outputs": [
    {
     "data": {
      "text/plain": [
       "6632"
      ]
     },
     "execution_count": 382,
     "metadata": {},
     "output_type": "execute_result"
    }
   ],
   "source": [
    "dis4['UserName'].nunique()"
   ]
  },
  {
   "cell_type": "code",
   "execution_count": 383,
   "id": "2b2cb08f",
   "metadata": {},
   "outputs": [
    {
     "data": {
      "text/plain": [
       "413"
      ]
     },
     "execution_count": 383,
     "metadata": {},
     "output_type": "execute_result"
    }
   ],
   "source": [
    "dis4['letter count'].max()"
   ]
  },
  {
   "cell_type": "code",
   "execution_count": 384,
   "id": "182d28f5",
   "metadata": {},
   "outputs": [],
   "source": []
  },
  {
   "cell_type": "code",
   "execution_count": null,
   "id": "63331b07",
   "metadata": {},
   "outputs": [],
   "source": []
  },
  {
   "cell_type": "code",
   "execution_count": 386,
   "id": "5deedae7",
   "metadata": {},
   "outputs": [
    {
     "data": {
      "text/plain": [
       "<AxesSubplot:ylabel='Month'>"
      ]
     },
     "execution_count": 386,
     "metadata": {},
     "output_type": "execute_result"
    },
    {
     "data": {
      "image/png": "[encoded data removed]",
      "text/plain": [
       "<Figure size 720x432 with 1 Axes>"
      ]
     },
     "metadata": {
      "needs_background": "light"
     },
     "output_type": "display_data"
    }
   ],
   "source": [
    "# users active during months\n",
    "tweets_per_Dates = df['my'].value_counts().rename_axis('Month').reset_index(name='Number of Tweets')\n",
    "tweets_per_Dates.plot(x=\"Month\", y=\"Number of Tweets\", kind=\"barh\", figsize=(10, 6))\n"
   ]
  },
  {
   "cell_type": "code",
   "execution_count": null,
   "id": "5c645510",
   "metadata": {},
   "outputs": [],
   "source": []
  },
  {
   "cell_type": "code",
   "execution_count": 397,
   "id": "f3626d32",
   "metadata": {},
   "outputs": [
    {
     "data": {
      "text/html": [
       "<div>\n",
       "<style scoped>\n",
       "    .dataframe tbody tr th:only-of-type {\n",
       "        vertical-align: middle;\n",
       "    }\n",
       "\n",
       "    .dataframe tbody tr th {\n",
       "        vertical-align: top;\n",
       "    }\n",
       "\n",
       "    .dataframe thead th {\n",
       "        text-align: right;\n",
       "    }\n",
       "</style>\n",
       "<table border=\"1\" class=\"dataframe\">\n",
       "  <thead>\n",
       "    <tr style=\"text-align: right;\">\n",
       "      <th></th>\n",
       "      <th>weekday</th>\n",
       "      <th>Number of Tweets</th>\n",
       "    </tr>\n",
       "  </thead>\n",
       "  <tbody>\n",
       "    <tr>\n",
       "      <th>0</th>\n",
       "      <td>Tuesday</td>\n",
       "      <td>1867</td>\n",
       "    </tr>\n",
       "    <tr>\n",
       "      <th>1</th>\n",
       "      <td>Monday</td>\n",
       "      <td>1821</td>\n",
       "    </tr>\n",
       "    <tr>\n",
       "      <th>2</th>\n",
       "      <td>Wednesday</td>\n",
       "      <td>1808</td>\n",
       "    </tr>\n",
       "    <tr>\n",
       "      <th>3</th>\n",
       "      <td>Sunday</td>\n",
       "      <td>1796</td>\n",
       "    </tr>\n",
       "    <tr>\n",
       "      <th>4</th>\n",
       "      <td>Thursday</td>\n",
       "      <td>1466</td>\n",
       "    </tr>\n",
       "    <tr>\n",
       "      <th>5</th>\n",
       "      <td>Saturday</td>\n",
       "      <td>699</td>\n",
       "    </tr>\n",
       "    <tr>\n",
       "      <th>6</th>\n",
       "      <td>Friday</td>\n",
       "      <td>543</td>\n",
       "    </tr>\n",
       "  </tbody>\n",
       "</table>\n",
       "</div>"
      ],
      "text/plain": [
       "     weekday  Number of Tweets\n",
       "0    Tuesday              1867\n",
       "1     Monday              1821\n",
       "2  Wednesday              1808\n",
       "3     Sunday              1796\n",
       "4   Thursday              1466\n",
       "5   Saturday               699\n",
       "6     Friday               543"
      ]
     },
     "execution_count": 397,
     "metadata": {},
     "output_type": "execute_result"
    }
   ],
   "source": [
    "tweets_per_day = df['weekday'].value_counts().rename_axis('weekday').reset_index(name='Number of Tweets')\n",
    "tweets_per_day.head(7)\n"
   ]
  },
  {
   "cell_type": "code",
   "execution_count": 316,
   "id": "7be3c5b4",
   "metadata": {},
   "outputs": [],
   "source": []
  },
  {
   "cell_type": "code",
   "execution_count": 388,
   "id": "cab42c7d",
   "metadata": {},
   "outputs": [
    {
     "data": {
      "image/png": "[encoded data removed]",
      "text/plain": [
       "<Figure size 432x288 with 1 Axes>"
      ]
     },
     "metadata": {},
     "output_type": "display_data"
    }
   ],
   "source": [
    "fig = plt.figure()\n",
    "ax = fig.add_axes([0,0,1,1])\n",
    "ax.axis('equal')\n",
    "explode = (0, 0, 0, 0,0,0.3,0.3)\n",
    "mycolors = [\"Bisque\", \"CornflowerBlue\", \"DarkGray\", \"DarkSalmon\",'DeepSkyBlue','Tomato','CadetBlue']\n",
    "ax.pie(tweets_per_day['Number of Tweets'],autopct='%1.2f%%',explode=explode,startangle=45,colors = mycolors)\n",
    "plt.title('Tweets active during weekdays',fontsize=20,loc='center')\n",
    "plt.legend(labels=tweets_per_day['weekday'], loc='upper center', \n",
    "           bbox_to_anchor=(0.5, -0.04), ncol=2)\n",
    "\n",
    "\n",
    "plt.show()"
   ]
  },
  {
   "cell_type": "code",
   "execution_count": null,
   "id": "4c6dd82b",
   "metadata": {},
   "outputs": [],
   "source": []
  },
  {
   "cell_type": "code",
   "execution_count": 389,
   "id": "5d856fb3",
   "metadata": {},
   "outputs": [
    {
     "data": {
      "text/plain": [
       "<AxesSubplot:title={'center':'Tweet Active During Hours '}, xlabel='Hours', ylabel='Tweets'>"
      ]
     },
     "execution_count": 389,
     "metadata": {},
     "output_type": "execute_result"
    },
    {
     "data": {
      "image/png": "[encoded data removed]",
      "text/plain": [
       "<Figure size 936x504 with 1 Axes>"
      ]
     },
     "metadata": {
      "needs_background": "light"
     },
     "output_type": "display_data"
    }
   ],
   "source": [
    "tweets_per_time = df['hour'].value_counts().rename_axis('hour').reset_index(name='Number of Tweets')\n",
    "tweets_per_time.sort_values(\"hour\", axis = 0, ascending = True,\n",
    "                 inplace = True, na_position ='first')\n",
    "\n",
    "tweets_per_time.plot(x=\"hour\", y=\"Number of Tweets\", kind=\"bar\", figsize=(13, 7),title=('Tweet Active During Hours '),xlabel=('Hours'),ylabel=('Tweets'))\n"
   ]
  },
  {
   "cell_type": "code",
   "execution_count": null,
   "id": "f188f996",
   "metadata": {},
   "outputs": [],
   "source": []
  },
  {
   "cell_type": "code",
   "execution_count": null,
   "id": "f71e8708",
   "metadata": {},
   "outputs": [],
   "source": []
  },
  {
   "cell_type": "code",
   "execution_count": null,
   "id": "15c0a95e",
   "metadata": {},
   "outputs": [],
   "source": []
  },
  {
   "cell_type": "code",
   "execution_count": 392,
   "id": "656d0bf2",
   "metadata": {},
   "outputs": [
    {
     "data": {
      "text/html": [
       "<div>\n",
       "<style scoped>\n",
       "    .dataframe tbody tr th:only-of-type {\n",
       "        vertical-align: middle;\n",
       "    }\n",
       "\n",
       "    .dataframe tbody tr th {\n",
       "        vertical-align: top;\n",
       "    }\n",
       "\n",
       "    .dataframe thead th {\n",
       "        text-align: right;\n",
       "    }\n",
       "</style>\n",
       "<table border=\"1\" class=\"dataframe\">\n",
       "  <thead>\n",
       "    <tr style=\"text-align: right;\">\n",
       "      <th></th>\n",
       "      <th>Accounts</th>\n",
       "      <th>Number of mentions</th>\n",
       "    </tr>\n",
       "  </thead>\n",
       "  <tbody>\n",
       "    <tr>\n",
       "      <th>0</th>\n",
       "      <td>@tvtcweb</td>\n",
       "      <td>990</td>\n",
       "    </tr>\n",
       "    <tr>\n",
       "      <th>1</th>\n",
       "      <td>دبلوم</td>\n",
       "      <td>534</td>\n",
       "    </tr>\n",
       "  </tbody>\n",
       "</table>\n",
       "</div>"
      ],
      "text/plain": [
       "   Accounts  Number of mentions\n",
       "0  @tvtcweb                 990\n",
       "1     دبلوم                 534"
      ]
     },
     "execution_count": 392,
     "metadata": {},
     "output_type": "execute_result"
    }
   ],
   "source": [
    "mo4.head(2)"
   ]
  },
  {
   "cell_type": "code",
   "execution_count": 393,
   "id": "5cc1af64",
   "metadata": {},
   "outputs": [
    {
     "data": {
      "text/html": [
       "<div>\n",
       "<style scoped>\n",
       "    .dataframe tbody tr th:only-of-type {\n",
       "        vertical-align: middle;\n",
       "    }\n",
       "\n",
       "    .dataframe tbody tr th {\n",
       "        vertical-align: top;\n",
       "    }\n",
       "\n",
       "    .dataframe thead th {\n",
       "        text-align: right;\n",
       "    }\n",
       "</style>\n",
       "<table border=\"1\" class=\"dataframe\">\n",
       "  <thead>\n",
       "    <tr style=\"text-align: right;\">\n",
       "      <th></th>\n",
       "      <th>Accounts</th>\n",
       "      <th>Number of mentions</th>\n",
       "    </tr>\n",
       "  </thead>\n",
       "  <tbody>\n",
       "    <tr>\n",
       "      <th>0</th>\n",
       "      <td>@tvtcweb</td>\n",
       "      <td>990</td>\n",
       "    </tr>\n",
       "    <tr>\n",
       "      <th>4</th>\n",
       "      <td>@dralfahaid</td>\n",
       "      <td>423</td>\n",
       "    </tr>\n",
       "    <tr>\n",
       "      <th>11</th>\n",
       "      <td>@abr20k</td>\n",
       "      <td>317</td>\n",
       "    </tr>\n",
       "    <tr>\n",
       "      <th>15</th>\n",
       "      <td>@Dr_Adel_TVTC</td>\n",
       "      <td>242</td>\n",
       "    </tr>\n",
       "  </tbody>\n",
       "</table>\n",
       "</div>"
      ],
      "text/plain": [
       "         Accounts  Number of mentions\n",
       "0        @tvtcweb                 990\n",
       "4     @dralfahaid                 423\n",
       "11        @abr20k                 317\n",
       "15  @Dr_Adel_TVTC                 242"
      ]
     },
     "execution_count": 393,
     "metadata": {},
     "output_type": "execute_result"
    }
   ],
   "source": [
    "result = mo4.iloc[[0, 4, 11,15]]\n",
    "result"
   ]
  },
  {
   "cell_type": "code",
   "execution_count": 346,
   "id": "4da73705",
   "metadata": {},
   "outputs": [
    {
     "data": {
      "text/plain": [
       "<AxesSubplot:title={'center':'Most four Accounts'}, ylabel='User Account'>"
      ]
     },
     "execution_count": 346,
     "metadata": {},
     "output_type": "execute_result"
    },
    {
     "data": {
      "image/png": "[encoded data removed]",
      "text/plain": [
       "<Figure size 720x432 with 1 Axes>"
      ]
     },
     "metadata": {
      "needs_background": "light"
     },
     "output_type": "display_data"
    }
   ],
   "source": [
    "result.plot(x=\"Accounts\", y=\"Number of mentions\", kind=\"barh\", figsize=(10, 6),title=('Most four Accounts'),xlabel=('User Account'),ylabel=('User Account'))\n",
    "\n"
   ]
  },
  {
   "cell_type": "code",
   "execution_count": null,
   "id": "2e25a2fb",
   "metadata": {},
   "outputs": [],
   "source": []
  },
  {
   "cell_type": "code",
   "execution_count": 394,
   "id": "58df26e4",
   "metadata": {},
   "outputs": [
    {
     "data": {
      "text/html": [
       "<div>\n",
       "<style scoped>\n",
       "    .dataframe tbody tr th:only-of-type {\n",
       "        vertical-align: middle;\n",
       "    }\n",
       "\n",
       "    .dataframe tbody tr th {\n",
       "        vertical-align: top;\n",
       "    }\n",
       "\n",
       "    .dataframe thead th {\n",
       "        text-align: right;\n",
       "    }\n",
       "</style>\n",
       "<table border=\"1\" class=\"dataframe\">\n",
       "  <thead>\n",
       "    <tr style=\"text-align: right;\">\n",
       "      <th></th>\n",
       "      <th>Users</th>\n",
       "      <th>counts</th>\n",
       "    </tr>\n",
       "  </thead>\n",
       "  <tbody>\n",
       "    <tr>\n",
       "      <th>0</th>\n",
       "      <td>('@dralfahaid', '@Dr_Adel_TVTC')</td>\n",
       "      <td>133</td>\n",
       "    </tr>\n",
       "    <tr>\n",
       "      <th>1</th>\n",
       "      <td>('شكرًا', 'لتواصلكم.')</td>\n",
       "      <td>119</td>\n",
       "    </tr>\n",
       "    <tr>\n",
       "      <th>2</th>\n",
       "      <td>('اللغة', 'الانجليزية')</td>\n",
       "      <td>117</td>\n",
       "    </tr>\n",
       "  </tbody>\n",
       "</table>\n",
       "</div>"
      ],
      "text/plain": [
       "                              Users  counts\n",
       "0  ('@dralfahaid', '@Dr_Adel_TVTC')     133\n",
       "1            ('شكرًا', 'لتواصلكم.')     119\n",
       "2           ('اللغة', 'الانجليزية')     117"
      ]
     },
     "execution_count": 394,
     "metadata": {},
     "output_type": "execute_result"
    }
   ],
   "source": [
    "from nltk import ngrams\n",
    "pd.set_option('display.max_rows', None)\n",
    "a5.head(3)"
   ]
  },
  {
   "cell_type": "code",
   "execution_count": 395,
   "id": "801521b3",
   "metadata": {},
   "outputs": [
    {
     "data": {
      "text/html": [
       "<div>\n",
       "<style scoped>\n",
       "    .dataframe tbody tr th:only-of-type {\n",
       "        vertical-align: middle;\n",
       "    }\n",
       "\n",
       "    .dataframe tbody tr th {\n",
       "        vertical-align: top;\n",
       "    }\n",
       "\n",
       "    .dataframe thead th {\n",
       "        text-align: right;\n",
       "    }\n",
       "</style>\n",
       "<table border=\"1\" class=\"dataframe\">\n",
       "  <thead>\n",
       "    <tr style=\"text-align: right;\">\n",
       "      <th></th>\n",
       "      <th>Users</th>\n",
       "      <th>counts</th>\n",
       "    </tr>\n",
       "  </thead>\n",
       "  <tbody>\n",
       "    <tr>\n",
       "      <th>2</th>\n",
       "      <td>('اللغة', 'الانجليزية')</td>\n",
       "      <td>117</td>\n",
       "    </tr>\n",
       "    <tr>\n",
       "      <th>5</th>\n",
       "      <td>('يفتح', 'التسجيل')</td>\n",
       "      <td>107</td>\n",
       "    </tr>\n",
       "  </tbody>\n",
       "</table>\n",
       "</div>"
      ],
      "text/plain": [
       "                     Users  counts\n",
       "2  ('اللغة', 'الانجليزية')     117\n",
       "5      ('يفتح', 'التسجيل')     107"
      ]
     },
     "execution_count": 395,
     "metadata": {},
     "output_type": "execute_result"
    }
   ],
   "source": [
    "ree = a5.iloc[[2, 5, 6,7,8,9,11,17,22,25,28,34,35,30,49,55,72,79,92,93]]\n",
    "ree.shape\n",
    "ree.head(2)"
   ]
  },
  {
   "cell_type": "code",
   "execution_count": null,
   "id": "a37eaee8",
   "metadata": {},
   "outputs": [],
   "source": []
  },
  {
   "cell_type": "code",
   "execution_count": 396,
   "id": "aaaf7337",
   "metadata": {},
   "outputs": [
    {
     "data": {
      "text/plain": [
       "<AxesSubplot:ylabel='Users'>"
      ]
     },
     "execution_count": 396,
     "metadata": {},
     "output_type": "execute_result"
    },
    {
     "data": {
      "image/png": "[encoded data removed]",
      "text/plain": [
       "<Figure size 720x432 with 1 Axes>"
      ]
     },
     "metadata": {
      "needs_background": "light"
     },
     "output_type": "display_data"
    }
   ],
   "source": [
    "ree.plot(x=\"Users\", y=\"counts\", kind=\"barh\", figsize=(10, 6))\n"
   ]
  }
 ],
 "metadata": {
  "kernelspec": {
   "display_name": "Python 3",
   "language": "python",
   "name": "python3"
  },
  "language_info": {
   "codemirror_mode": {
    "name": "ipython",
    "version": 3
   },
   "file_extension": ".py",
   "mimetype": "text/x-python",
   "name": "python",
   "nbconvert_exporter": "python",
   "pygments_lexer": "ipython3",
   "version": "3.8.8"
  }
 },
 "nbformat": 4,
 "nbformat_minor": 5
}
